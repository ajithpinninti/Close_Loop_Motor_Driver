{
 "cells": [
  {
   "cell_type": "code",
   "execution_count": 3,
   "id": "0e8f5c6c",
   "metadata": {},
   "outputs": [],
   "source": [
    "import serial\n",
    "\n",
    "# Define the serial port and baud rate\n",
    "ser = serial.Serial('COM8', 115200)"
   ]
  },
  {
   "cell_type": "code",
   "execution_count": null,
   "id": "515c4c05",
   "metadata": {},
   "outputs": [],
   "source": [
    "command = \"G90 Z1 F1 \\n\""
   ]
  },
  {
   "cell_type": "code",
   "execution_count": null,
   "id": "f57bf2f2",
   "metadata": {},
   "outputs": [],
   "source": [
    "command = \"G91 Z1 F1 \\n\""
   ]
  },
  {
   "cell_type": "code",
   "execution_count": null,
   "id": "2c2f5d05",
   "metadata": {},
   "outputs": [],
   "source": [
    "command = \"MOTPOS \\n\""
   ]
  },
  {
   "cell_type": "code",
   "execution_count": null,
   "id": "a7f989a7",
   "metadata": {},
   "outputs": [],
   "source": [
    "# Send a command to the serial device\n",
    "ser.reset_input_buffer()\n",
    "\n",
    "\n",
    "ser.write(ser.encode(command))\n",
    "\n",
    "# Check if there is data waiting to be read\n",
    "while ser.in_waiting == 0;\n",
    "# Read the data from the serial buffer\n",
    "data = ser.readline()\n",
    "print(data)"
   ]
  },
  {
   "cell_type": "code",
   "execution_count": null,
   "id": "1db8a19e",
   "metadata": {},
   "outputs": [],
   "source": []
  },
  {
   "cell_type": "code",
   "execution_count": null,
   "id": "f85bc6d5",
   "metadata": {},
   "outputs": [],
   "source": []
  },
  {
   "cell_type": "code",
   "execution_count": null,
   "id": "afd6ceb3",
   "metadata": {},
   "outputs": [],
   "source": [
    "# Close the serial connection\n",
    "ser.close()"
   ]
  }
 ],
 "metadata": {
  "kernelspec": {
   "display_name": "Python 3 (ipykernel)",
   "language": "python",
   "name": "python3"
  },
  "language_info": {
   "codemirror_mode": {
    "name": "ipython",
    "version": 3
   },
   "file_extension": ".py",
   "mimetype": "text/x-python",
   "name": "python",
   "nbconvert_exporter": "python",
   "pygments_lexer": "ipython3",
   "version": "3.9.12"
  }
 },
 "nbformat": 4,
 "nbformat_minor": 5
}
