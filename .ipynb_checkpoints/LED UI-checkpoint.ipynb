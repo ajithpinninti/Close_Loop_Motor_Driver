{
 "cells": [
  {
   "cell_type": "code",
   "execution_count": 4,
   "id": "17d7230f",
   "metadata": {},
   "outputs": [
    {
     "name": "stdout",
     "output_type": "stream",
     "text": [
      "command sent\n"
     ]
    },
    {
     "ename": "KeyboardInterrupt",
     "evalue": "",
     "output_type": "error",
     "traceback": [
      "\u001b[1;31m---------------------------------------------------------------------------\u001b[0m",
      "\u001b[1;31mKeyboardInterrupt\u001b[0m                         Traceback (most recent call last)",
      "Input \u001b[1;32mIn [4]\u001b[0m, in \u001b[0;36m<cell line: 60>\u001b[1;34m()\u001b[0m\n\u001b[0;32m     57\u001b[0m checkbox\u001b[38;5;241m.\u001b[39mconfig(command\u001b[38;5;241m=\u001b[39mcheckbox_command)\n\u001b[0;32m     59\u001b[0m \u001b[38;5;66;03m# Start GUI loop\u001b[39;00m\n\u001b[1;32m---> 60\u001b[0m \u001b[43mroot\u001b[49m\u001b[38;5;241;43m.\u001b[39;49m\u001b[43mmainloop\u001b[49m\u001b[43m(\u001b[49m\u001b[43m)\u001b[49m\n",
      "File \u001b[1;32m~\\anaconda3\\lib\\tkinter\\__init__.py:1429\u001b[0m, in \u001b[0;36mMisc.mainloop\u001b[1;34m(self, n)\u001b[0m\n\u001b[0;32m   1427\u001b[0m \u001b[38;5;28;01mdef\u001b[39;00m \u001b[38;5;21mmainloop\u001b[39m(\u001b[38;5;28mself\u001b[39m, n\u001b[38;5;241m=\u001b[39m\u001b[38;5;241m0\u001b[39m):\n\u001b[0;32m   1428\u001b[0m     \u001b[38;5;124;03m\"\"\"Call the mainloop of Tk.\"\"\"\u001b[39;00m\n\u001b[1;32m-> 1429\u001b[0m     \u001b[38;5;28;43mself\u001b[39;49m\u001b[38;5;241;43m.\u001b[39;49m\u001b[43mtk\u001b[49m\u001b[38;5;241;43m.\u001b[39;49m\u001b[43mmainloop\u001b[49m\u001b[43m(\u001b[49m\u001b[43mn\u001b[49m\u001b[43m)\u001b[49m\n",
      "\u001b[1;31mKeyboardInterrupt\u001b[0m: "
     ]
    }
   ],
   "source": [
    "import tkinter as tk\n",
    "import serial\n",
    "\n",
    "# Define serial port settings\n",
    "ser = serial.Serial('COM8', 115200)  # Change to match your serial port and baud rate\n",
    "\n",
    "# Define functions to send commands based on checkbox state\n",
    "def send_command_on():\n",
    "    ser.write(b'command1\\n')  # Change 'command1' to the command you want to send when checkbox is checked\n",
    "    print(\"command sent\")\n",
    "\n",
    "def send_command_off():\n",
    "    ser.write(b'command2\\n')  # Change 'command2' to the command you want to send when checkbox is unchecked\n",
    "    print(\"off command\")\n",
    "# Create main window\n",
    "root = tk.Tk()\n",
    "root.geometry('400x200')\n",
    "\n",
    "# Create draggable element\n",
    "drag_label = tk.Label(root, text='Drag me', bg='yellow')\n",
    "drag_label.pack(fill=tk.X)\n",
    "\n",
    "# Define drag and drop functionality\n",
    "def drag_start(event):\n",
    "    drag_label['cursor'] = 'fleur'\n",
    "    drag_label.start_x = event.x\n",
    "    drag_label.start_y = event.y\n",
    "\n",
    "def drag_motion(event):\n",
    "    drag_label['cursor'] = 'fleur'\n",
    "    x, y = event.x - drag_label.start_x + drag_label.winfo_x(), event.y - drag_label.start_y + drag_label.winfo_y()\n",
    "    drag_label.place(x=x, y=y)\n",
    "\n",
    "def drag_end(event):\n",
    "    drag_label['cursor'] = ''\n",
    "    if drag_label.winfo_y() < 100:  # Change '100' to the y-coordinate threshold for sending the 'on' command\n",
    "        send_command_on()\n",
    "    else:\n",
    "        send_command_off()\n",
    "\n",
    "drag_label.bind('<ButtonPress-1>', drag_start)\n",
    "drag_label.bind('<B1-Motion>', drag_motion)\n",
    "drag_label.bind('<ButtonRelease-1>', drag_end)\n",
    "\n",
    "# Create checkbox\n",
    "checkbox_var = tk.BooleanVar()\n",
    "checkbox = tk.Checkbutton(root, text='Send command when checked', variable=checkbox_var)\n",
    "checkbox.pack()\n",
    "\n",
    "# Define checkbox command\n",
    "def checkbox_command():\n",
    "    if checkbox_var.get():\n",
    "        send_command_on()\n",
    "    else:\n",
    "        send_command_off()\n",
    "\n",
    "checkbox.config(command=checkbox_command)\n",
    "\n",
    "# Start GUI loop\n",
    "root.mainloop()\n"
   ]
  },
  {
   "cell_type": "code",
   "execution_count": 3,
   "id": "b5a283c4",
   "metadata": {},
   "outputs": [],
   "source": [
    "ser.close()"
   ]
  },
  {
   "cell_type": "code",
   "execution_count": null,
   "id": "756e9ed4",
   "metadata": {},
   "outputs": [],
   "source": []
  }
 ],
 "metadata": {
  "kernelspec": {
   "display_name": "Python 3 (ipykernel)",
   "language": "python",
   "name": "python3"
  },
  "language_info": {
   "codemirror_mode": {
    "name": "ipython",
    "version": 3
   },
   "file_extension": ".py",
   "mimetype": "text/x-python",
   "name": "python",
   "nbconvert_exporter": "python",
   "pygments_lexer": "ipython3",
   "version": "3.9.12"
  }
 },
 "nbformat": 4,
 "nbformat_minor": 5
}
